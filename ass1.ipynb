{
 "cells": [
  {
   "cell_type": "code",
   "execution_count": 2,
   "id": "9f43cda0",
   "metadata": {},
   "outputs": [],
   "source": [
    "import pandas as pd\n",
    "import numpy as np"
   ]
  },
  {
   "cell_type": "code",
   "execution_count": null,
   "id": "66568eea",
   "metadata": {},
   "outputs": [],
   "source": [
    "df = pd.read_csv('crime.csv')\n",
    "df.head()\n",
    "#print(len(df.axes[0]))\n",
    "df = df.iloc[:25470]\n",
    "#print(len(df.axes[0]))"
   ]
  },
  {
   "cell_type": "code",
   "execution_count": null,
   "id": "b78c008a",
   "metadata": {},
   "outputs": [],
   "source": [
    "#print(df.isnull().mean())"
   ]
  },
  {
   "cell_type": "code",
   "execution_count": null,
   "id": "6d00d46f",
   "metadata": {},
   "outputs": [],
   "source": [
    "df_drop_na = df.dropna()\n",
    "df_drop_na.head()"
   ]
  },
  {
   "cell_type": "code",
   "execution_count": null,
   "id": "1ffabe7c",
   "metadata": {},
   "outputs": [],
   "source": [
    "\n",
    "\n",
    "# Select the first 100 rows\n",
    "crime_100 = df_drop_na.head(100)\n",
    "\n",
    "# Save the selected rows to a new CSV file\n",
    "crime_100.to_csv('crime_100.csv', index=False)"
   ]
  },
  {
   "cell_type": "code",
   "execution_count": null,
   "id": "f478c5ce",
   "metadata": {},
   "outputs": [],
   "source": [
    "crime_100"
   ]
  },
  {
   "cell_type": "code",
   "execution_count": null,
   "id": "92fc4c24",
   "metadata": {},
   "outputs": [],
   "source": [
    "crime_1000"
   ]
  },
  {
   "cell_type": "code",
   "execution_count": null,
   "id": "8bd54d9f",
   "metadata": {},
   "outputs": [],
   "source": [
    "print(df_drop_na.isnull().mean())\n",
    "df_drop_na.shape"
   ]
  },
  {
   "cell_type": "code",
   "execution_count": null,
   "id": "21250fc2",
   "metadata": {},
   "outputs": [],
   "source": [
    "import requests\n",
    "import geopandas as gpd\n",
    "\n",
    "df_beat = gpd.read_file('https://services3.arcgis.com/Et5Qfajgiyosiw4d/arcgis/rest/services/2019_Beat_Alignment/FeatureServer/0/query?where=1=1&outFields=*&f=geojson')\n",
    "df_beat"
   ]
  },
  {
   "cell_type": "code",
   "execution_count": null,
   "id": "b867cfcf",
   "metadata": {},
   "outputs": [],
   "source": [
    "df_zone = gpd.read_file('https://services3.arcgis.com/Et5Qfajgiyosiw4d/arcgis/rest/services/2019_Zone_Alignment/FeatureServer/0/query?where=1=1&outFields=*&f=geojson')\n",
    "\n",
    "df_zone"
   ]
  },
  {
   "cell_type": "code",
   "execution_count": null,
   "id": "064cfe7a",
   "metadata": {},
   "outputs": [],
   "source": [
    "merged_gdf = gpd.sjoin(df_beat, df_zone, op='within')"
   ]
  },
  {
   "cell_type": "code",
   "execution_count": null,
   "id": "68b99940",
   "metadata": {},
   "outputs": [],
   "source": [
    "merged_gdf = merged_gdf.rename(columns=str.lower)\n",
    "merged_gdf"
   ]
  },
  {
   "cell_type": "code",
   "execution_count": null,
   "id": "7b46fde7",
   "metadata": {},
   "outputs": [],
   "source": [
    "df_drop_na['beat'] = df_drop_na['beat'].astype(int)"
   ]
  },
  {
   "cell_type": "code",
   "execution_count": null,
   "id": "c2aab4fd",
   "metadata": {},
   "outputs": [],
   "source": [
    "merged_df = pd.merge(df_drop_na, merged_gdf, on='beat', how='left')\n",
    "merged_df"
   ]
  },
  {
   "cell_type": "code",
   "execution_count": null,
   "id": "3cac0fe0",
   "metadata": {},
   "outputs": [],
   "source": [
    "# merged_df.drop(\"index\", axis=1, inplace=True)"
   ]
  },
  {
   "cell_type": "code",
   "execution_count": null,
   "id": "0b868264",
   "metadata": {},
   "outputs": [],
   "source": [
    "column_names = crime_100.columns.tolist()\n",
    "column_names\n",
    "new_column_name = 'index'\n",
    "merged_df.rename(columns={'Unnamed: 0': new_column_name}, inplace=True)"
   ]
  },
  {
   "cell_type": "code",
   "execution_count": null,
   "id": "194217e9",
   "metadata": {},
   "outputs": [],
   "source": [
    "merged_df = merged_df.dropna()\n",
    "merged_df"
   ]
  },
  {
   "cell_type": "code",
   "execution_count": null,
   "id": "b571f87d",
   "metadata": {},
   "outputs": [],
   "source": [
    "merged_df['date'] = pd.to_datetime(merged_df['date'])"
   ]
  },
  {
   "cell_type": "code",
   "execution_count": null,
   "id": "be476b29",
   "metadata": {},
   "outputs": [],
   "source": [
    "#id for location\n",
    "merged_df['location_id'], _ = pd.factorize(merged_df['location'])\n",
    "#id for crime\n",
    "merged_df['crime_id'], _ = pd.factorize(merged_df['crime'])\n",
    "#id for date\n",
    "merged_df['date_id'], _ = pd.factorize(merged_df['date'])\n",
    "#id for neighborhood\n",
    "merged_df['neighborhood_id'], _ = pd.factorize(merged_df['neighborhood'])\n",
    "#id for npu\n",
    "merged_df['npu_id'], _ = pd.factorize(merged_df['npu'])\n",
    "#id for neighborhood lookup\n",
    "merged_df['neighbor_lookup_id'], _ = pd.factorize(merged_df['neighbourhood_lookup'])\n",
    "#id for zone\n",
    "merged_df['zone_id'], _ = pd.factorize(merged_df['zone'])\n",
    "#id for beat\n",
    "merged_df['beat_id'], _ = pd.factorize(merged_df['beat'])\n",
    "#id for type\n",
    "merged_df['type_id'], _ = pd.factorize(merged_df['type'])"
   ]
  },
  {
   "cell_type": "code",
   "execution_count": null,
   "id": "12312e3e",
   "metadata": {},
   "outputs": [],
   "source": [
    "# Select the first 100 rows\n",
    "merged_df_1000 = merged_df.head(1000)\n",
    "merged_df_1000\n",
    "\n",
    "# Save the selected rows to a new CSV file\n",
    "merged_df_1000.to_csv('merged_df_1000.csv', index=False)"
   ]
  },
  {
   "cell_type": "code",
   "execution_count": null,
   "id": "dde3bc27",
   "metadata": {},
   "outputs": [],
   "source": [
    "#table: crime_num\n",
    "crime_num = merged_df_100[['index', 'number']].copy()\n",
    "c_table = crime_num.drop_duplicates()\n",
    "c_table = c_table.style.hide_index()\n",
    "c_table\n",
    "#saving the above table\n",
    "excel_file_path = 'crime_num.xlsx'\n",
    "c_table.to_excel(excel_file_path, index=False)\n",
    "excelFile = pd.read_excel(excel_file_path)\n",
    "# Converting excel file into CSV file\n",
    "excelFile.to_csv (\"crime_num.csv\", index = None, header=True)\n",
    "\n",
    "#crime for location\n",
    "crime_loc = merged_df_100[['index', 'location_id', 'crime']].copy()\n",
    "c_l_table = crime_loc.drop_duplicates()\n",
    "c_l_table = c_l_table.style.hide_index()\n",
    "c_l_table\n",
    "#saving the above table\n",
    "excel_file_path = 'crime_loc.xlsx'\n",
    "c_l_table.to_excel(excel_file_path, index=False)\n",
    "excelFile = pd.read_excel(excel_file_path)\n",
    "# Converting excel file into CSV file\n",
    "excelFile.to_csv (\"crime_loc.csv\", index = None, header=True)"
   ]
  },
  {
   "cell_type": "code",
   "execution_count": null,
   "id": "9d9e857c",
   "metadata": {},
   "outputs": [],
   "source": [
    "#dimension table: crime\n",
    "crime_table = merged_df[['crime_id', 'crime']].copy()\n",
    "c_table = crime_table.drop_duplicates()\n",
    "c_table = c_table.style.hide_index()\n",
    "c_table"
   ]
  },
  {
   "cell_type": "code",
   "execution_count": null,
   "id": "ecd02460",
   "metadata": {},
   "outputs": [],
   "source": [
    "#project2_date table: date\n",
    "\n",
    "date_table = merged_df[['date_id']].copy()\n",
    "#updating date colum\n",
    "date_table['date'] = merged_df['date'].dt.date\n",
    "#adding year column \n",
    "date_table['year'] = merged_df['date'].dt.year\n",
    "#adding month column\n",
    "date_table['month'] = merged_df['date'].dt.month\n",
    "\n",
    "d_table = date_table.drop_duplicates()\n",
    "d_table = d_table.style.hide_index()\n",
    "#d_table['date'] =  pd.to_datetime(d_table['date'], format='%d%b%Y%f')\n",
    "d_table"
   ]
  },
  {
   "cell_type": "code",
   "execution_count": null,
   "id": "4542cfee",
   "metadata": {},
   "outputs": [],
   "source": [
    "#dimension table: location\n",
    "location_table = merged_df[['location_id', 'neighborhood_id', 'location', 'neighborhood']].copy()\n",
    "\n",
    "l_table = location_table.drop_duplicates(subset=['location_id'])\n",
    "l_table = l_table.style.hide_index()\n",
    "l_table\n"
   ]
  },
  {
   "cell_type": "code",
   "execution_count": null,
   "id": "d3eedb9b",
   "metadata": {},
   "outputs": [],
   "source": [
    "#dimension table: beat\n",
    "beat_table = merged_df[['beat_id', 'beat']].copy()\n",
    "\n",
    "b_table = beat_table.drop_duplicates()\n",
    "b_table = b_table.style.hide_index()\n",
    "b_table"
   ]
  },
  {
   "cell_type": "code",
   "execution_count": null,
   "id": "8b3a5e88",
   "metadata": {},
   "outputs": [],
   "source": [
    "#dimeanion table: zone\n",
    "zone_table = merged_df[['zone']].copy()\n",
    "\n",
    "adjacent_zones = [[2,5,6], [2], [1,4], [4], [6], [3,4]]\n",
    "\n",
    "zone_table_copy = zone_table.assign(new_column=adjacent_zones)\n",
    "\n",
    "z_table = zone_table.drop_duplicates()\n",
    "z_table = z_table.style.hide_index()\n",
    "z_table"
   ]
  },
  {
   "cell_type": "code",
   "execution_count": null,
   "id": "67ce610b",
   "metadata": {},
   "outputs": [],
   "source": [
    "#dimension table: type of location\n",
    "type_table = merged_df[['type_id', 'type']].copy()\n",
    "t_table = type_table.drop_duplicates()\n",
    "t_table = t_table.style.hide_index()\n",
    "t_table"
   ]
  },
  {
   "cell_type": "code",
   "execution_count": null,
   "id": "13bdfcf7",
   "metadata": {},
   "outputs": [],
   "source": [
    "#project2 location table\n",
    "loc_table = merged_df[['neighborhood_id', 'neighborhood']].copy()\n",
    "\n",
    "loc_tab = loc_table.drop_duplicates()\n",
    "loc_tab = loc_tab.style.hide_index()\n",
    "loc_tab\n",
    "\n",
    "#location dimension table\n",
    "excel_file_path = 'location_2_table.xlsx'\n",
    "loc_tab.to_excel(excel_file_path, index=False)\n",
    "excelFile = pd.read_excel(excel_file_path)\n",
    "# Converting excel file into CSV file\n",
    "excelFile.to_csv (\"neighborhood_table.csv\", index = None, header=True)\n",
    "\n"
   ]
  },
  {
   "cell_type": "code",
   "execution_count": null,
   "id": "f57c8eca",
   "metadata": {},
   "outputs": [],
   "source": [
    "#project2 crime table\n",
    "crime_table = merged_df[['crime_id', 'location_id', 'neighborhood_id', 'zone_id', 'date_id', 'crime']]\n",
    "\n",
    "crime_tab = crime_table.drop_duplicates()\n",
    "crime_tab = crime_table.style.hide_index()\n",
    "crime_tab\n",
    "\n",
    "\n",
    "#location dimension table\n",
    "excel_file_path = 'crime_2_table.xlsx'\n",
    "crime_tab.to_excel(excel_file_path, index=False)\n",
    "excelFile = pd.read_excel(excel_file_path)\n",
    "# Converting excel file into CSV file\n",
    "excelFile.to_csv (\"crime_2_table.csv\", index = None, header=True)"
   ]
  },
  {
   "cell_type": "code",
   "execution_count": null,
   "id": "a0cd062d",
   "metadata": {},
   "outputs": [],
   "source": []
  },
  {
   "cell_type": "code",
   "execution_count": null,
   "id": "952c7c72",
   "metadata": {},
   "outputs": [],
   "source": []
  },
  {
   "cell_type": "code",
   "execution_count": null,
   "id": "a03d612e",
   "metadata": {},
   "outputs": [],
   "source": [
    "#fact table\n",
    "c_fact_table = merged_df[['number', 'crime_id', 'date_id', 'location_id', 'type_id', 'beat_id', 'zone_id']].copy()\n",
    "\n",
    "#You can use df.groupby(['Courses','Fee']).Courses.transform('count') to add a new column containing the groups counts into the DataFrame.\n",
    "c_fact_table['count'] = c_fact_table.groupby(['number', 'crime_id']).number.transform('count')\n",
    "\n",
    "fact_crime_table = c_fact_table.drop_duplicates()\n",
    "fact_crime_table = fact_crime_table.style.hide_index()\n",
    "fact_crime_table"
   ]
  },
  {
   "cell_type": "code",
   "execution_count": null,
   "id": "1b63c3fd",
   "metadata": {},
   "outputs": [],
   "source": [
    "#csv files for the tables\n",
    "\n",
    "#converting the files into excel first as the dimension and the fact tables are a copy of the pandas dataframe \n",
    "# and cannot be directly converted into the csv format\n",
    "#From the excel format, then the files are converted and saved as csv files\n",
    "\n",
    "# #location dimension table\n",
    "# excel_file_path = 'location_dim_table.xlsx'\n",
    "# l_table.to_excel(excel_file_path, index=False)\n",
    "# excelFile = pd.read_excel(excel_file_path)\n",
    "# # Converting excel file into CSV file\n",
    "# excelFile.to_csv (\"location_dim_table.csv\", index = None, header=True)\n",
    "\n",
    "# #crime dimension table\n",
    "# excel_file_path = 'crime_dim_table.xlsx'\n",
    "# c_table.to_excel(excel_file_path, index=False)\n",
    "# excelFile = pd.read_excel(excel_file_path)\n",
    "# # Converting excel file into CSV file\n",
    "# excelFile.to_csv (\"crime_dim_table.csv\", index = None, header=True)\n",
    "\n",
    "#date dimension table\n",
    "excel_file_path = 'date_dim_table.xlsx'\n",
    "d_table.to_excel(excel_file_path, index=False)\n",
    "excelFile = pd.read_excel(excel_file_path)\n",
    "# Converting excel file into CSV file\n",
    "excelFile.to_csv (\"date_dim_table.csv\", index = None, header=True)\n",
    "\n",
    "#beat dimension table\n",
    "# excel_file_path = 'beat_dim_table.xlsx'\n",
    "# b_table.to_excel(excel_file_path, index=False)\n",
    "# excelFile = pd.read_excel(excel_file_path)\n",
    "# # Converting excel file into CSV file\n",
    "# excelFile.to_csv (\"beat_dim_table.csv\", index = None, header=True)\n",
    "\n",
    "# #zone dimension table\n",
    "# excel_file_path = 'zone_dim_table.xlsx'\n",
    "# z_table.to_excel(excel_file_path, index=False)\n",
    "# excelFile = pd.read_excel(excel_file_path)\n",
    "# # Converting excel file into CSV file\n",
    "# excelFile.to_csv (\"zone_dim_table.csv\", index = None, header=True)\n",
    "\n",
    "# #type of location dimension table\n",
    "# excel_file_path = 'type_loc_dim_table.xlsx'\n",
    "# t_table.to_excel(excel_file_path, index=False)\n",
    "# excelFile = pd.read_excel(excel_file_path)\n",
    "# # Converting excel file into CSV file\n",
    "# excelFile.to_csv (\"type_loc_dim_table.csv\", index = None, header=True)"
   ]
  },
  {
   "cell_type": "code",
   "execution_count": null,
   "id": "01393fb9",
   "metadata": {},
   "outputs": [],
   "source": [
    "#csv file for the fact table\n",
    "\n",
    "excel_file_path = 'crime_fact_table.xlsx'\n",
    "fact_crime_table.to_excel(excel_file_path, index=False)\n",
    "excelFile = pd.read_excel(excel_file_path)\n",
    "# Converting excel file into CSV file\n",
    "excelFile.to_csv (\"crime_fact_table.csv\", index = None, header=True)"
   ]
  },
  {
   "cell_type": "code",
   "execution_count": 3,
   "id": "d61598ff",
   "metadata": {},
   "outputs": [],
   "source": [
    "zone_df = pd.read_csv('zone_dim_table.csv')"
   ]
  },
  {
   "cell_type": "code",
   "execution_count": null,
   "id": "ab390a6b",
   "metadata": {},
   "outputs": [],
   "source": [
    "zone_df = zone_df.style.hide_index()"
   ]
  },
  {
   "cell_type": "code",
   "execution_count": 9,
   "id": "c5f38149",
   "metadata": {},
   "outputs": [
    {
     "name": "stderr",
     "output_type": "stream",
     "text": [
      "/var/folders/zv/qqqscdkd6j589hpjd9gcd8500000gn/T/ipykernel_36793/2476385976.py:6: FutureWarning: this method is deprecated in favour of `Styler.hide(axis='index')`\n",
      "  zone_table = zone_df_copy.style.hide_index()\n"
     ]
    },
    {
     "data": {
      "text/html": [
       "<style type=\"text/css\">\n",
       "</style>\n",
       "<table id=\"T_2f7d4\">\n",
       "  <thead>\n",
       "    <tr>\n",
       "      <th id=\"T_2f7d4_level0_col0\" class=\"col_heading level0 col0\" >zone_id</th>\n",
       "      <th id=\"T_2f7d4_level0_col1\" class=\"col_heading level0 col1\" >zone</th>\n",
       "      <th id=\"T_2f7d4_level0_col2\" class=\"col_heading level0 col2\" >new_column</th>\n",
       "    </tr>\n",
       "  </thead>\n",
       "  <tbody>\n",
       "    <tr>\n",
       "      <td id=\"T_2f7d4_row0_col0\" class=\"data row0 col0\" >0</td>\n",
       "      <td id=\"T_2f7d4_row0_col1\" class=\"data row0 col1\" >4</td>\n",
       "      <td id=\"T_2f7d4_row0_col2\" class=\"data row0 col2\" >[2, 5, 6]</td>\n",
       "    </tr>\n",
       "    <tr>\n",
       "      <td id=\"T_2f7d4_row1_col0\" class=\"data row1 col0\" >1</td>\n",
       "      <td id=\"T_2f7d4_row1_col1\" class=\"data row1 col1\" >3</td>\n",
       "      <td id=\"T_2f7d4_row1_col2\" class=\"data row1 col2\" >[2]</td>\n",
       "    </tr>\n",
       "    <tr>\n",
       "      <td id=\"T_2f7d4_row2_col0\" class=\"data row2 col0\" >2</td>\n",
       "      <td id=\"T_2f7d4_row2_col1\" class=\"data row2 col1\" >6</td>\n",
       "      <td id=\"T_2f7d4_row2_col2\" class=\"data row2 col2\" >[1, 4]</td>\n",
       "    </tr>\n",
       "    <tr>\n",
       "      <td id=\"T_2f7d4_row3_col0\" class=\"data row3 col0\" >3</td>\n",
       "      <td id=\"T_2f7d4_row3_col1\" class=\"data row3 col1\" >5</td>\n",
       "      <td id=\"T_2f7d4_row3_col2\" class=\"data row3 col2\" >[4]</td>\n",
       "    </tr>\n",
       "    <tr>\n",
       "      <td id=\"T_2f7d4_row4_col0\" class=\"data row4 col0\" >4</td>\n",
       "      <td id=\"T_2f7d4_row4_col1\" class=\"data row4 col1\" >1</td>\n",
       "      <td id=\"T_2f7d4_row4_col2\" class=\"data row4 col2\" >[6]</td>\n",
       "    </tr>\n",
       "    <tr>\n",
       "      <td id=\"T_2f7d4_row5_col0\" class=\"data row5 col0\" >5</td>\n",
       "      <td id=\"T_2f7d4_row5_col1\" class=\"data row5 col1\" >2</td>\n",
       "      <td id=\"T_2f7d4_row5_col2\" class=\"data row5 col2\" >[3, 4]</td>\n",
       "    </tr>\n",
       "  </tbody>\n",
       "</table>\n"
      ],
      "text/plain": [
       "<pandas.io.formats.style.Styler at 0x7fd1f0fa1a60>"
      ]
     },
     "execution_count": 9,
     "metadata": {},
     "output_type": "execute_result"
    }
   ],
   "source": [
    "#manually found the adjacent zones\n",
    "adjacent_zones = [[2,5,6], [2], [1,4], [4], [6], [3,4]]\n",
    "#adding a new column for the adjacent zones\n",
    "zone_df_copy = zone_df.assign(new_column=adjacent_zones)\n",
    "#removing unwanted indexing\n",
    "zone_table = zone_df_copy.style.hide_index()\n",
    "zone_table"
   ]
  },
  {
   "cell_type": "code",
   "execution_count": 10,
   "id": "115ca283",
   "metadata": {},
   "outputs": [],
   "source": [
    "#zone dimension table\n",
    "excel_file_path = 'zone_table.xlsx'\n",
    "zone_table.to_excel(excel_file_path, index=False)\n",
    "excelFile = pd.read_excel(excel_file_path)\n",
    "# Converting excel file into CSV file\n",
    "excelFile.to_csv (\"zone_table.csv\", index = None, header=True)"
   ]
  },
  {
   "cell_type": "code",
   "execution_count": null,
   "id": "6149b4e2",
   "metadata": {},
   "outputs": [],
   "source": []
  }
 ],
 "metadata": {
  "kernelspec": {
   "display_name": "Python 3 (ipykernel)",
   "language": "python",
   "name": "python3"
  },
  "language_info": {
   "codemirror_mode": {
    "name": "ipython",
    "version": 3
   },
   "file_extension": ".py",
   "mimetype": "text/x-python",
   "name": "python",
   "nbconvert_exporter": "python",
   "pygments_lexer": "ipython3",
   "version": "3.9.13"
  }
 },
 "nbformat": 4,
 "nbformat_minor": 5
}
